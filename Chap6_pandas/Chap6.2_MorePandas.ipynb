{
 "cells": [
  {
   "cell_type": "markdown",
   "metadata": {},
   "source": [
    "Trong bài này, chúng ta sẽ sử dụng file student.csv trong thư mục data và làm các ví dụ với file này\n",
    "\n",
    "# Đọc dữ liệu"
   ]
  },
  {
   "cell_type": "code",
   "execution_count": 7,
   "metadata": {},
   "outputs": [
    {
     "name": "stdout",
     "output_type": "stream",
     "text": [
      "   id             name               nationality                 city  \\\n",
      "0   0        Kiana Lor                     China               Suzhou   \n",
      "1   1   Joshua Lonaker  United States of America        Santa Clarita   \n",
      "2   2    Dakota Blanco  United States of America              Oakland   \n",
      "3   3  Natasha Yarusso  United States of America        Castro Valley   \n",
      "4   4   Brooke Cazares                    Brazil  São José dos Campos   \n",
      "\n",
      "   latitude  longitude gender  ethnic.group  age  english.grade  math.grade  \\\n",
      "0     31.31     120.62      F           NaN   22            3.5         3.7   \n",
      "1     34.39    -118.54      M           NaN   22            2.9         3.2   \n",
      "2     37.80    -122.27      F           NaN   22            3.9         3.8   \n",
      "3     37.69    -122.09      F           NaN   20            3.3         2.8   \n",
      "4    -23.18     -45.88      F           NaN   21            3.7         2.6   \n",
      "\n",
      "   sciences.grade  language.grade  portfolio.rating  coverletter.rating  \\\n",
      "0             3.1             1.0                 4                 4.0   \n",
      "1             3.6             5.0                 5                 4.0   \n",
      "2             3.2             5.0                 3                 3.0   \n",
      "3             3.2             5.0                 5                 2.0   \n",
      "4             3.4             1.0                 4                 4.0   \n",
      "\n",
      "   refletter.rating  \n",
      "0                 4  \n",
      "1                 5  \n",
      "2                 4  \n",
      "3                 4  \n",
      "4                 5  \n"
     ]
    }
   ],
   "source": [
    "import pandas as pd\n",
    "\n",
    "# Đọc dữ liệu từ file CSV\n",
    "df = pd.read_csv('./data/student.csv')\n",
    "# in ra 5 dòng đầu tiên\n",
    "print(df.head())\n"
   ]
  },
  {
   "cell_type": "markdown",
   "metadata": {},
   "source": [
    "# Khám phá dữ liệu"
   ]
  },
  {
   "cell_type": "code",
   "execution_count": 10,
   "metadata": {},
   "outputs": [
    {
     "name": "stdout",
     "output_type": "stream",
     "text": [
      "<class 'pandas.core.frame.DataFrame'>\n",
      "RangeIndex: 307 entries, 0 to 306\n",
      "Data columns (total 16 columns):\n",
      " #   Column              Non-Null Count  Dtype  \n",
      "---  ------              --------------  -----  \n",
      " 0   id                  307 non-null    int64  \n",
      " 1   name                307 non-null    object \n",
      " 2   nationality         307 non-null    object \n",
      " 3   city                307 non-null    object \n",
      " 4   latitude            307 non-null    float64\n",
      " 5   longitude           307 non-null    float64\n",
      " 6   gender              307 non-null    object \n",
      " 7   ethnic.group        0 non-null      float64\n",
      " 8   age                 307 non-null    int64  \n",
      " 9   english.grade       307 non-null    float64\n",
      " 10  math.grade          307 non-null    float64\n",
      " 11  sciences.grade      307 non-null    float64\n",
      " 12  language.grade      307 non-null    float64\n",
      " 13  portfolio.rating    307 non-null    int64  \n",
      " 14  coverletter.rating  307 non-null    float64\n",
      " 15  refletter.rating    307 non-null    int64  \n",
      "dtypes: float64(8), int64(4), object(4)\n",
      "memory usage: 38.5+ KB\n",
      "None\n",
      "---------------------------------\n",
      "               id    latitude   longitude  ethnic.group         age  \\\n",
      "count  307.000000  307.000000  307.000000           0.0  307.000000   \n",
      "mean   153.000000   32.863388  -64.539121           NaN   21.964169   \n",
      "std     88.767487   13.498582   81.249146           NaN    1.248013   \n",
      "min      0.000000  -33.450000 -123.130000           NaN   19.000000   \n",
      "25%     76.500000   32.720000 -118.240000           NaN   21.000000   \n",
      "50%    153.000000   34.390000  -99.140000           NaN   22.000000   \n",
      "75%    229.500000   38.960000  -73.855000           NaN   23.000000   \n",
      "max    306.000000   59.890000  139.750000           NaN   26.000000   \n",
      "\n",
      "       english.grade  math.grade  sciences.grade  language.grade  \\\n",
      "count     307.000000  307.000000      307.000000      307.000000   \n",
      "mean        3.369707    3.414332        3.446580        4.396417   \n",
      "std         0.538724    0.476839        0.509081        0.996474   \n",
      "min         1.500000    2.100000        1.400000        1.000000   \n",
      "25%         3.100000    3.100000        3.200000        4.000000   \n",
      "50%         3.500000    3.500000        3.600000        5.000000   \n",
      "75%         3.800000    3.800000        3.800000        5.000000   \n",
      "max         4.000000    4.000000        4.000000        5.000000   \n",
      "\n",
      "       portfolio.rating  coverletter.rating  refletter.rating  \n",
      "count        307.000000          307.000000        307.000000  \n",
      "mean           3.986971            4.110749          4.188925  \n",
      "std            0.928749            0.823936          0.842193  \n",
      "min            1.000000            1.000000          1.000000  \n",
      "25%            3.500000            4.000000          4.000000  \n",
      "50%            4.000000            4.000000          4.000000  \n",
      "75%            5.000000            5.000000          5.000000  \n",
      "max            5.000000            5.000000          5.000000  \n"
     ]
    }
   ],
   "source": [
    "# Kiểm tra kiểu dữ liệu và thông tin chung\n",
    "print(df.info())\n",
    "print('---------------------------------')\n",
    "# Xem thống kê mô tả của các cột số\n",
    "print(df.describe())\n"
   ]
  },
  {
   "cell_type": "code",
   "execution_count": 59,
   "metadata": {},
   "outputs": [
    {
     "name": "stdout",
     "output_type": "stream",
     "text": [
      "nationality\n",
      "United States of America    193\n",
      "Mexico                       24\n",
      "China                        13\n",
      "Japan                        13\n",
      "Brazil                        9\n",
      "India                         8\n",
      "Canada                        7\n",
      "Russian Federation            6\n",
      "Colombia                      5\n",
      "Korea (Republic of)           3\n",
      "Pakistan                      3\n",
      "Spain                         2\n",
      "Turkey                        2\n",
      "United Kingdom                2\n",
      "Dominican Republic            1\n",
      "Bangladesh                    1\n",
      "Thailand                      1\n",
      "Chile                         1\n",
      "Netherlands                   1\n",
      "Morocco                       1\n",
      "Ukraine                       1\n",
      "Egypt                         1\n",
      "El Salvador                   1\n",
      "Germany                       1\n",
      "Peru                          1\n",
      "Philippines                   1\n",
      "Myanmar                       1\n",
      "Tunisia                       1\n",
      "Cuba                          1\n",
      "Poland                        1\n",
      "Nicaragua                     1\n",
      "Name: count, dtype: int64\n"
     ]
    }
   ],
   "source": [
    "nationality_counts = df['nationality'].value_counts()\n",
    "print(nationality_counts)"
   ]
  },
  {
   "cell_type": "markdown",
   "metadata": {},
   "source": [
    "# Tìm giá trị lớn nhất/nhỏ nhất"
   ]
  },
  {
   "cell_type": "code",
   "execution_count": 31,
   "metadata": {},
   "outputs": [
    {
     "name": "stdout",
     "output_type": "stream",
     "text": [
      "4.0\n",
      "                    name  english.grade\n",
      "15         Brittany Sath            4.0\n",
      "68       Gabrielle Smith            4.0\n",
      "120        Meghan Arnold            4.0\n",
      "123       Gareth Newkirk            4.0\n",
      "140         Faviola Soto            4.0\n",
      "174        Andrew Bishop            4.0\n",
      "181  Addie Villavicencio            4.0\n",
      "195         Joshua Mesan            4.0\n",
      "197           Troy White            4.0\n",
      "201          Tyler Kibel            4.0\n",
      "227    Patricia Rockhold            4.0\n",
      "229     Katherine Beatty            4.0\n",
      "240        Rylee Onstott            4.0\n",
      "246    Vittoria Faulkner            4.0\n",
      "268     Bryant Ronquillo            4.0\n",
      "269         Garrett Heim            4.0\n",
      "275       Blake Loughran            4.0\n",
      "286      Michael Griffin            4.0\n"
     ]
    }
   ],
   "source": [
    "# Tìm học sinh có điểm English cao nhất\n",
    "highest_english_grade = df['english.grade'].max()\n",
    "print(highest_english_grade)\n",
    "student_with_highest_english_grade = df[df['english.grade'] == highest_english_grade]\n",
    "print(student_with_highest_english_grade[['name', 'english.grade']])\n"
   ]
  },
  {
   "cell_type": "markdown",
   "metadata": {},
   "source": [
    "# Lọc dữ liệu\n",
    "\n",
    "Các toán tử trong pandas\n",
    "- `|`: or\n",
    "- `&`: and\n",
    "- `~`: not\n",
    "\n"
   ]
  },
  {
   "cell_type": "code",
   "execution_count": 36,
   "metadata": {},
   "outputs": [
    {
     "name": "stdout",
     "output_type": "stream",
     "text": [
      "                  name  english.grade  math.grade\n",
      "0            Kiana Lor            3.5         3.7\n",
      "2        Dakota Blanco            3.9         3.8\n",
      "3      Natasha Yarusso            3.3         2.8\n",
      "4       Brooke Cazares            3.7         2.6\n",
      "5     Rochelle Johnson            3.4         3.1\n",
      "..                 ...            ...         ...\n",
      "301   Vanessa Gonzalez            3.3         3.7\n",
      "302        Austin Haas            3.6         3.7\n",
      "303    Madison Fithian            3.6         3.9\n",
      "304  Zachary Mulvahill            3.2         3.4\n",
      "306    Dane Whittemore            3.8         3.2\n",
      "\n",
      "[286 rows x 3 columns]\n"
     ]
    }
   ],
   "source": [
    "filtered_df = df[(df['english.grade'] > 3.0) | (df['math.grade'] > 3.2)]\n",
    "print(filtered_df[['name', 'english.grade', 'math.grade']])\n"
   ]
  },
  {
   "cell_type": "code",
   "execution_count": 40,
   "metadata": {},
   "outputs": [
    {
     "name": "stdout",
     "output_type": "stream",
     "text": [
      "                      name gender nationality\n",
      "4           Brooke Cazares      F      Brazil\n",
      "135             Ivy Lucero      F      Brazil\n",
      "180  Nicole Torres-Valadez      F      Brazil\n",
      "226       Abigail Gallegos      F      Brazil\n",
      "271          Jasmine Lopez      F      Brazil\n",
      "285  Viridiana Ballesteros      F      Brazil\n"
     ]
    }
   ],
   "source": [
    "filtered_df = df[(df['gender'] == 'F') & (df['nationality'] == 'Brazil')]\n",
    "print(filtered_df[['name', 'gender', 'nationality']])\n"
   ]
  },
  {
   "cell_type": "code",
   "execution_count": 41,
   "metadata": {},
   "outputs": [
    {
     "name": "stdout",
     "output_type": "stream",
     "text": [
      "                  name               nationality\n",
      "0            Kiana Lor                     China\n",
      "1       Joshua Lonaker  United States of America\n",
      "2        Dakota Blanco  United States of America\n",
      "3      Natasha Yarusso  United States of America\n",
      "5     Rochelle Johnson  United States of America\n",
      "..                 ...                       ...\n",
      "302        Austin Haas  United States of America\n",
      "303    Madison Fithian  United States of America\n",
      "304  Zachary Mulvahill  United States of America\n",
      "305   Eliana Michelsen  United States of America\n",
      "306    Dane Whittemore                    Canada\n",
      "\n",
      "[298 rows x 2 columns]\n"
     ]
    }
   ],
   "source": [
    "filtered_df = df[~(df['nationality'] == 'Brazil')]\n",
    "print(filtered_df[['name', 'nationality']])\n"
   ]
  },
  {
   "cell_type": "code",
   "execution_count": 52,
   "metadata": {},
   "outputs": [
    {
     "name": "stdout",
     "output_type": "stream",
     "text": [
      "                     name  age gender  math.grade  sciences.grade  \\\n",
      "1          Joshua Lonaker   22      M         3.2             3.6   \n",
      "12      Alexander Sherman   20      M         3.6             3.9   \n",
      "13          Edgar Sanchez   23      M         3.5             4.0   \n",
      "14           Kolbi Strunk   21      M         3.9             3.3   \n",
      "18             David Pulc   24      M         2.9             4.0   \n",
      "..                    ...  ...    ...         ...             ...   \n",
      "298          Nicolas Papp   23      M         3.7             3.9   \n",
      "299  Christopher Inhulsen   23      M         3.3             2.9   \n",
      "302           Austin Haas   20      M         3.7             3.1   \n",
      "304     Zachary Mulvahill   20      M         3.4             3.9   \n",
      "306       Dane Whittemore   21      M         3.2             4.0   \n",
      "\n",
      "     language.grade  \n",
      "1               5.0  \n",
      "12              5.0  \n",
      "13              4.0  \n",
      "14              5.0  \n",
      "18              5.0  \n",
      "..              ...  \n",
      "298             5.0  \n",
      "299             5.0  \n",
      "302             5.0  \n",
      "304             5.0  \n",
      "306             5.0  \n",
      "\n",
      "[125 rows x 6 columns]\n"
     ]
    }
   ],
   "source": [
    "# Kết hợp nhiều điều kiện\n",
    "filtered_df = df[(df['gender'] == 'M') & (df['age'] > 18) & (df[['math.grade', 'sciences.grade', 'language.grade','language.grade']].mean(axis=1) > 3.5)]\n",
    "print(filtered_df[['name', 'age', 'gender', 'math.grade', 'sciences.grade', 'language.grade']])\n"
   ]
  },
  {
   "cell_type": "code",
   "execution_count": 57,
   "metadata": {},
   "outputs": [
    {
     "data": {
      "text/plain": [
       "math.grade        3.414332\n",
       "sciences.grade    3.446580\n",
       "language.grade    4.396417\n",
       "language.grade    4.396417\n",
       "dtype: float64"
      ]
     },
     "execution_count": 57,
     "metadata": {},
     "output_type": "execute_result"
    }
   ],
   "source": [
    "df[['math.grade', 'sciences.grade', 'language.grade','language.grade']].mean(axis=0)"
   ]
  },
  {
   "cell_type": "markdown",
   "metadata": {},
   "source": [
    "# Group By - df.groupby()\n",
    "\n",
    "Dùng để chia df thành từng nhóm và tổng hợp giá trị. Các hàm thường dùng\n",
    "\n",
    "- mean(): Tính giá trị trung bình của mỗi nhóm.\n",
    "- sum(): Tính tổng của mỗi nhóm.\n",
    "- count(): Đếm số lượng phần tử trong mỗi nhóm.\n",
    "- max(): Tìm giá trị lớn nhất của mỗi nhóm.\n",
    "- min(): Tìm giá trị nhỏ nhất của mỗi nhóm.\n",
    "- std(): Tính độ lệch chuẩn của mỗi nhóm.\n",
    "- median(): Tính giá trị trung vị của mỗi nhóm.\n",
    "- agg(): Áp dụng nhiều hàm tổng hợp khác nhau lên mỗi nhóm.\n",
    "\n"
   ]
  },
  {
   "cell_type": "code",
   "execution_count": 13,
   "metadata": {},
   "outputs": [
    {
     "name": "stdout",
     "output_type": "stream",
     "text": [
      "<class 'pandas.core.groupby.generic.DataFrameGroupBy'>\n",
      "{'Bangladesh': [146], 'Brazil': [4, 7, 96, 135, 180, 203, 226, 271, 285], 'Canada': [18, 104, 111, 121, 139, 293, 306], 'Chile': [211], 'China': [0, 6, 21, 24, 61, 76, 162, 176, 189, 194, 214, 218, 232], 'Colombia': [94, 183, 185, 244, 283], 'Cuba': [70], 'Dominican Republic': [29], 'Egypt': [150], 'El Salvador': [105], 'Germany': [128], 'India': [35, 41, 72, 172, 175, 198, 215, 259], 'Japan': [15, 20, 37, 43, 46, 79, 95, 97, 99, 164, 200, 264, 280], 'Korea (Republic of)': [68, 213, 251], 'Mexico': [13, 17, 39, 49, 50, 82, 87, 112, 117, 125, 140, 141, 145, 148, 169, 178, 188, 191, 210, 236, 237, 265, 268, 296], 'Morocco': [187], 'Myanmar': [85], 'Netherlands': [190], 'Nicaragua': [301], 'Pakistan': [23, 59, 101], 'Peru': [36], 'Philippines': [8], 'Poland': [65], 'Russian Federation': [42, 93, 120, 134, 177, 217], 'Spain': [52, 129], 'Thailand': [234], 'Tunisia': [77], 'Turkey': [9, 171], 'Ukraine': [165], 'United Kingdom': [173, 230], 'United States of America': [1, 2, 3, 5, 10, 11, 12, 14, 16, 19, 22, 25, 26, 27, 28, 30, 31, 32, 33, 34, 38, 40, 44, 45, 47, 48, 51, 53, 54, 55, 56, 57, 58, 60, 62, 63, 64, 66, 67, 69, 71, 73, 74, 75, 78, 80, 81, 83, 84, 86, 88, 89, 90, 91, 92, 98, 100, 102, 103, 106, 107, 108, 109, 110, 113, 114, 115, 116, 118, 119, 122, 123, 124, 126, 127, 130, 131, 132, 133, 136, 137, 138, 142, 143, 144, 147, 149, 151, 152, 153, 154, 155, 156, 157, 158, 159, 160, 161, 163, 166, ...]}\n"
     ]
    }
   ],
   "source": [
    "grouped = df.groupby('nationality')\n",
    "print(type(grouped))\n",
    "print(grouped.groups)"
   ]
  },
  {
   "cell_type": "code",
   "execution_count": 15,
   "metadata": {},
   "outputs": [
    {
     "name": "stdout",
     "output_type": "stream",
     "text": [
      "id                                 146\n",
      "name                  Juhaina al-Bilal\n",
      "nationality                 Bangladesh\n",
      "city                             Dhaka\n",
      "latitude                         23.72\n",
      "longitude                        90.41\n",
      "gender                               F\n",
      "ethnic.group                       NaN\n",
      "age                                 20\n",
      "english.grade                      3.9\n",
      "math.grade                         3.9\n",
      "sciences.grade                     3.9\n",
      "language.grade                     5.0\n",
      "portfolio.rating                     5\n",
      "coverletter.rating                 4.0\n",
      "refletter.rating                     5\n",
      "Name: 146, dtype: object\n"
     ]
    }
   ],
   "source": [
    "print(df.iloc[146])"
   ]
  },
  {
   "cell_type": "code",
   "execution_count": 19,
   "metadata": {},
   "outputs": [
    {
     "name": "stdout",
     "output_type": "stream",
     "text": [
      "      id             name nationality       city  latitude  longitude gender  \\\n",
      "15    15    Brittany Sath       Japan      Tokyo     35.69     139.75      F   \n",
      "20    20       Rojesh Her       Japan      Tokyo     35.69     139.75      M   \n",
      "37    37    Katrina Saito       Japan      Tokyo     35.69     139.75      F   \n",
      "43    43  Kenny Fukushima       Japan      Tokyo     35.69     139.75      M   \n",
      "46    46       Alan Trinh       Japan      Tokyo     35.69     139.75      M   \n",
      "79    79     Macie Nguyen       Japan      Tokyo     35.69     139.75      F   \n",
      "95    95  Danielle Nguyen       Japan      Tokyo     35.69     139.75      F   \n",
      "97    97    William Pablo       Japan  Kashiwara     34.58     135.62      M   \n",
      "99    99    Antonio Desai       Japan   Kawasaki     35.52     139.72      M   \n",
      "164  164       Min Singal       Japan      Tokyo     35.69     139.75      F   \n",
      "200  200     Kitty Nguyen       Japan      Tokyo     35.69     139.75      F   \n",
      "264  264  Murtidevi Chung       Japan      Tokyo     35.69     139.75      F   \n",
      "280  280     Tiffanie Her       Japan      Tokyo     35.69     139.75      F   \n",
      "\n",
      "     ethnic.group  age  english.grade  math.grade  sciences.grade  \\\n",
      "15            NaN   21            4.0         3.9             3.7   \n",
      "20            NaN   22            3.8         3.6             3.6   \n",
      "37            NaN   22            3.8         4.0             3.7   \n",
      "43            NaN   22            3.9         2.9             3.3   \n",
      "46            NaN   20            2.8         3.1             3.8   \n",
      "79            NaN   23            3.1         3.8             3.8   \n",
      "95            NaN   23            3.3         3.5             3.6   \n",
      "97            NaN   24            2.9         3.3             3.1   \n",
      "99            NaN   22            2.2         3.9             3.9   \n",
      "164           NaN   24            3.8         2.9             2.9   \n",
      "200           NaN   25            3.4         3.2             2.9   \n",
      "264           NaN   21            2.9         3.9             3.5   \n",
      "280           NaN   22            3.4         4.0             3.6   \n",
      "\n",
      "     language.grade  portfolio.rating  coverletter.rating  refletter.rating  \n",
      "15              3.0                 5                 3.0                 5  \n",
      "20              2.0                 4                 4.0                 3  \n",
      "37              4.0                 5                 4.0                 5  \n",
      "43              4.0                 5                 5.0                 5  \n",
      "46              4.0                 3                 4.0                 5  \n",
      "79              4.0                 2                 4.0                 3  \n",
      "95              3.0                 5                 4.0                 4  \n",
      "97              4.0                 2                 5.0                 4  \n",
      "99              3.0                 5                 4.0                 5  \n",
      "164             4.0                 5                 3.0                 2  \n",
      "200             4.0                 4                 3.0                 5  \n",
      "264             2.0                 4                 5.0                 4  \n",
      "280             3.0                 4                 4.0                 3  \n"
     ]
    }
   ],
   "source": [
    "print(grouped.get_group('Japan'))"
   ]
  },
  {
   "cell_type": "code",
   "execution_count": 26,
   "metadata": {},
   "outputs": [
    {
     "name": "stdout",
     "output_type": "stream",
     "text": [
      "                          english.grade  math.grade  sciences.grade  \\\n",
      "nationality                                                           \n",
      "Bangladesh                     3.900000    3.900000        3.900000   \n",
      "Brazil                         3.577778    3.377778        3.055556   \n",
      "Canada                         3.657143    3.014286        3.600000   \n",
      "Chile                          3.700000    3.700000        4.000000   \n",
      "China                          3.253846    3.784615        3.376923   \n",
      "Colombia                       3.540000    3.580000        3.280000   \n",
      "Cuba                           3.900000    2.800000        3.200000   \n",
      "Dominican Republic             3.400000    3.800000        4.000000   \n",
      "Egypt                          1.500000    3.500000        3.200000   \n",
      "El Salvador                    3.300000    2.900000        3.500000   \n",
      "Germany                        3.200000    3.500000        3.900000   \n",
      "India                          3.000000    3.275000        3.637500   \n",
      "Japan                          3.330769    3.538462        3.492308   \n",
      "Korea (Republic of)            3.533333    3.066667        3.200000   \n",
      "Mexico                         3.358333    3.387500        3.441667   \n",
      "Morocco                        2.400000    3.600000        3.800000   \n",
      "Myanmar                        3.100000    3.400000        3.700000   \n",
      "Netherlands                    2.500000    3.500000        3.700000   \n",
      "Nicaragua                      3.300000    3.700000        3.800000   \n",
      "Pakistan                       3.400000    2.933333        3.333333   \n",
      "Peru                           3.700000    3.100000        3.000000   \n",
      "Philippines                    3.900000    3.600000        3.200000   \n",
      "Poland                         3.900000    3.800000        3.000000   \n",
      "Russian Federation             3.550000    3.383333        3.133333   \n",
      "Spain                          3.450000    3.750000        3.400000   \n",
      "Thailand                       3.300000    3.900000        3.900000   \n",
      "Tunisia                        3.500000    3.100000        4.000000   \n",
      "Turkey                         2.600000    2.700000        3.850000   \n",
      "Ukraine                        3.100000    3.300000        3.900000   \n",
      "United Kingdom                 3.400000    3.150000        3.200000   \n",
      "United States of America       3.379275    3.417098        3.455959   \n",
      "\n",
      "                          language.grade  \n",
      "nationality                               \n",
      "Bangladesh                      5.000000  \n",
      "Brazil                          2.888889  \n",
      "Canada                          5.000000  \n",
      "Chile                           3.000000  \n",
      "China                           3.153846  \n",
      "Colombia                        3.200000  \n",
      "Cuba                            3.000000  \n",
      "Dominican Republic              4.000000  \n",
      "Egypt                           3.000000  \n",
      "El Salvador                     3.000000  \n",
      "Germany                         3.000000  \n",
      "India                           3.125000  \n",
      "Japan                           3.384615  \n",
      "Korea (Republic of)             2.666667  \n",
      "Mexico                          3.445833  \n",
      "Morocco                         3.000000  \n",
      "Myanmar                         3.000000  \n",
      "Netherlands                     4.000000  \n",
      "Nicaragua                       3.000000  \n",
      "Pakistan                        3.333333  \n",
      "Peru                            3.000000  \n",
      "Philippines                     2.000000  \n",
      "Poland                          3.000000  \n",
      "Russian Federation              3.500000  \n",
      "Spain                           3.000000  \n",
      "Thailand                        2.000000  \n",
      "Tunisia                         4.000000  \n",
      "Turkey                          3.000000  \n",
      "Ukraine                         3.000000  \n",
      "United Kingdom                  5.000000  \n",
      "United States of America        5.000000  \n"
     ]
    }
   ],
   "source": [
    "\n",
    "# Tính điểm trung bình của các môn học theo quốc tịch\n",
    "average_grades_by_nationality = df.groupby('nationality')[['english.grade', 'math.grade', 'sciences.grade', 'language.grade']].agg('mean')\n",
    "print(average_grades_by_nationality)\n",
    "\n",
    "\n"
   ]
  },
  {
   "cell_type": "code",
   "execution_count": 25,
   "metadata": {},
   "outputs": [
    {
     "name": "stdout",
     "output_type": "stream",
     "text": [
      "city            gender\n",
      "Aguascalientes  F         1\n",
      "                M         1\n",
      "Alfenas         F         1\n",
      "Ankara          F         1\n",
      "Baltimore       M         1\n",
      "                         ..\n",
      "Waukegan        M         1\n",
      "West Jordan     F         1\n",
      "Wuhan           M         1\n",
      "Zamora          F         1\n",
      "Zülpich         F         1\n",
      "Name: id, Length: 192, dtype: int64\n"
     ]
    }
   ],
   "source": [
    "\n",
    "# Đếm số lượng học sinh theo thành phố và giới tính\n",
    "student_count_by_city_gender = df.groupby(['city', 'gender'])['id'].count()\n",
    "print(student_count_by_city_gender)"
   ]
  },
  {
   "cell_type": "markdown",
   "metadata": {},
   "source": [
    "# sắp xếp df.sort_values\n",
    "`sorted_df = df.sort_values(by='column', ascending=True)`"
   ]
  },
  {
   "cell_type": "code",
   "execution_count": 51,
   "metadata": {},
   "outputs": [
    {
     "name": "stdout",
     "output_type": "stream",
     "text": [
      "                       name  english.grade\n",
      "150  Abdul Jabbaar el-Abdul            1.5\n",
      "41       Afnaan el-Mohammed            1.7\n",
      "11             Sasha Jansen            1.7\n",
      "162          Rebecca Ah Fat            1.8\n",
      "53           Moira Buttitto            1.9\n",
      "..                      ...            ...\n",
      "120           Meghan Arnold            4.0\n",
      "123          Gareth Newkirk            4.0\n",
      "227       Patricia Rockhold            4.0\n",
      "197              Troy White            4.0\n",
      "268        Bryant Ronquillo            4.0\n",
      "\n",
      "[307 rows x 2 columns]\n"
     ]
    }
   ],
   "source": [
    "sorted_by_english = df.sort_values(by='english.grade')\n",
    "print(sorted_by_english[['name', 'english.grade']])"
   ]
  },
  {
   "cell_type": "markdown",
   "metadata": {},
   "source": [
    "# Bài tập\n",
    "- Tìm 5 học sinh có điểm trung bình các môn học cao nhất.\n",
    "- Tìm thành phố có nhiều học sinh nhất.\n",
    "- Tạo một cột mới 'overall_rating' là trung bình cộng của 'portfolio.rating', 'coverletter.rating' và 'refletter.rating'."
   ]
  },
  {
   "cell_type": "code",
   "execution_count": null,
   "metadata": {},
   "outputs": [],
   "source": []
  },
  {
   "cell_type": "code",
   "execution_count": null,
   "metadata": {},
   "outputs": [],
   "source": []
  }
 ],
 "metadata": {
  "kernelspec": {
   "display_name": "Python 3",
   "language": "python",
   "name": "python3"
  },
  "language_info": {
   "codemirror_mode": {
    "name": "ipython",
    "version": 3
   },
   "file_extension": ".py",
   "mimetype": "text/x-python",
   "name": "python",
   "nbconvert_exporter": "python",
   "pygments_lexer": "ipython3",
   "version": "3.11.9"
  }
 },
 "nbformat": 4,
 "nbformat_minor": 2
}
