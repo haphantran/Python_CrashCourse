{
 "cells": [
  {
   "cell_type": "markdown",
   "metadata": {},
   "source": [
    "# List comprehension\n",
    "\n",
    "`List comprehension` trong Python là một cách ngắn gọn và mạnh mẽ để **tạo** ra các danh sách. Nó cho phép bạn định nghĩa một danh sách mới bằng cách chỉ định một biểu thức đơn lẻ, sau đó áp dụng biểu thức đó cho mỗi phần tử của một iterable hiện có (như là một danh sách, tuple, hoặc range).\n",
    "\n",
    "```python\n",
    "new_list = [expression for item in iterable]\n",
    "\n",
    "# same as\n",
    "new_list = []\n",
    "for item in iterable:\n",
    "  new_list.append(expression)\n",
    "```\n",
    "\n",
    "Cách hoạt động:\n",
    "\n",
    "1. Biến `item` đại diện cho mỗi phần tử trong `iterable`.\n",
    "2. `expression` là giá trị hoặc hoạt động được áp dụng cho mỗi item để tạo ra một phần tử mới trong danh sách kết quả.\n",
    "3. Từ khóa `for` được sử dụng để lặp qua mỗi `item` trong `iterable`."
   ]
  },
  {
   "cell_type": "code",
   "execution_count": 1,
   "metadata": {},
   "outputs": [
    {
     "name": "stdout",
     "output_type": "stream",
     "text": [
      "[1, 4, 9, 16, 25]\n"
     ]
    }
   ],
   "source": [
    "numbers = [1, 2, 3, 4, 5]\n",
    "squares = [x**2 for x in numbers]\n",
    "print(squares)"
   ]
  },
  {
   "cell_type": "code",
   "execution_count": 5,
   "metadata": {},
   "outputs": [],
   "source": [
    "even_numbers = [x for x in numbers if x % 2 == 0]\n",
    "# similar to\n",
    "even_numbers = []\n",
    "for x in numbers:\n",
    "    if x % 2 == 0:\n",
    "        even_numbers.append(x)"
   ]
  },
  {
   "cell_type": "code",
   "execution_count": null,
   "metadata": {},
   "outputs": [],
   "source": []
  }
 ],
 "metadata": {
  "kernelspec": {
   "display_name": "Python 3",
   "language": "python",
   "name": "python3"
  },
  "language_info": {
   "codemirror_mode": {
    "name": "ipython",
    "version": 3
   },
   "file_extension": ".py",
   "mimetype": "text/x-python",
   "name": "python",
   "nbconvert_exporter": "python",
   "pygments_lexer": "ipython3",
   "version": "3.11.9"
  }
 },
 "nbformat": 4,
 "nbformat_minor": 2
}
